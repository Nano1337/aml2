{
 "cells": [
  {
   "cell_type": "code",
   "execution_count": 1,
   "id": "d80707a1-2f16-4bd2-8774-bcc3b6347ee2",
   "metadata": {},
   "outputs": [],
   "source": [
    "from gp import *\n",
    "import matplotlib.pyplot as plt\n",
    "plt.style.use('ggplot')"
   ]
  },
  {
   "cell_type": "markdown",
   "id": "5b61bab1-6888-48b2-ad1e-09737697ae28",
   "metadata": {},
   "source": [
    "# Data"
   ]
  },
  {
   "cell_type": "markdown",
   "id": "8a7c13dc-25d0-4fe3-a4c3-3266268b5a31",
   "metadata": {},
   "source": [
    "**Note**: the data has already been standardized - both the input (X) and output (Y)."
   ]
  },
  {
   "cell_type": "code",
   "execution_count": 2,
   "id": "bc6b3d12-3689-42da-8456-ab318779f67e",
   "metadata": {},
   "outputs": [],
   "source": [
    "X_train = np.load('X_train.npy')\n",
    "Y_train = np.load('Y_train.npy')\n",
    "X_test = np.load('X_test.npy')\n",
    "Y_test = np.load('Y_test.npy')"
   ]
  },
  {
   "cell_type": "markdown",
   "id": "0eece8ba-7932-4338-b9bb-1da218726f8a",
   "metadata": {},
   "source": [
    "# Hyperparameter initialization"
   ]
  },
  {
   "cell_type": "markdown",
   "id": "f053f909-8261-4872-9729-6f4e04231514",
   "metadata": {},
   "source": [
    "Note that, in the below initialization, it is assumed that noise variance is the first component, signal variance the second, and length scale the third. Feel free to modify if using pytrees.\n",
    "\n",
    "Further note: these are assumed constrained (strictly positive). You should map to unconstrained prior to running optimization, and map back to constrained when forming the GP posterior, and evaluating the predictive density for evaluation."
   ]
  },
  {
   "cell_type": "code",
   "execution_count": 3,
   "id": "4de92ec2-abac-4905-9e75-0294b86194ec",
   "metadata": {},
   "outputs": [],
   "source": [
    "def random_init_sqexp_hyperparams():\n",
    "    return np.array([jax.random.uniform(grab_prng(), minval=0.2, maxval=2),\n",
    "                     jax.random.uniform(grab_prng(), minval=0.2, maxval=2),\n",
    "                     X_train.shape[1]*jax.random.uniform(grab_prng(), minval=1, maxval=10)])\n",
    "#"
   ]
  },
  {
   "cell_type": "markdown",
   "id": "d2b21180-e161-471e-b974-5af0442e297f",
   "metadata": {},
   "source": [
    "# Plotting code"
   ]
  },
  {
   "cell_type": "code",
   "execution_count": 4,
   "id": "1f2b728b-22b4-49d4-a3da-fa1da6cb7538",
   "metadata": {},
   "outputs": [],
   "source": [
    "def scatterplot(lml_lpd):\n",
    "    plt.scatter(lml_lpd[:,0], lml_lpd[:,1])\n",
    "    \n",
    "    plt.xlabel('Log marginal likelihood')\n",
    "    plt.ylabel('Negative log predictive density')\n",
    "    plt.title('Is marginal likelihood a good indicator of generalization?')\n",
    "    plt.legend()\n",
    "#"
   ]
  },
  {
   "cell_type": "markdown",
   "id": "2daacf8b-66f5-4922-a1ef-cfad27a2c1e5",
   "metadata": {},
   "source": [
    "# Experiment 1: Empirical Bayes for squared-exponential kernel"
   ]
  },
  {
   "cell_type": "code",
   "execution_count": 5,
   "id": "84862917-0610-406a-a1de-6caa919d17ce",
   "metadata": {},
   "outputs": [
    {
     "name": "stdout",
     "output_type": "stream",
     "text": [
      "Starting experiment with 50 trials\n"
     ]
    },
    {
     "name": "stderr",
     "output_type": "stream",
     "text": [
      "Trials:   2%|▏         | 1/50 [00:06<05:18,  6.50s/it]"
     ]
    },
    {
     "name": "stdout",
     "output_type": "stream",
     "text": [
      "Trial 1/50 completed. Initial NLL: 194.8225, Final NLL: 13.5248, LML: -117.7924\n"
     ]
    },
    {
     "name": "stderr",
     "output_type": "stream",
     "text": [
      "Trials:   4%|▍         | 2/50 [00:11<04:32,  5.68s/it]"
     ]
    },
    {
     "name": "stdout",
     "output_type": "stream",
     "text": [
      "Trial 2/50 completed. Initial NLL: 148.5025, Final NLL: 13.5065, LML: -118.1068\n"
     ]
    },
    {
     "name": "stderr",
     "output_type": "stream",
     "text": [
      "Trials:   6%|▌         | 3/50 [00:16<04:16,  5.47s/it]"
     ]
    },
    {
     "name": "stdout",
     "output_type": "stream",
     "text": [
      "Trial 3/50 completed. Initial NLL: 182.0950, Final NLL: 13.3743, LML: -122.0135\n"
     ]
    },
    {
     "name": "stderr",
     "output_type": "stream",
     "text": [
      "Trials:   8%|▊         | 4/50 [00:22<04:07,  5.39s/it]"
     ]
    },
    {
     "name": "stdout",
     "output_type": "stream",
     "text": [
      "Trial 4/50 completed. Initial NLL: 189.1436, Final NLL: 13.5111, LML: -118.0255\n"
     ]
    },
    {
     "name": "stderr",
     "output_type": "stream",
     "text": [
      "Trials:  10%|█         | 5/50 [00:27<03:57,  5.27s/it]"
     ]
    },
    {
     "name": "stdout",
     "output_type": "stream",
     "text": [
      "Trial 5/50 completed. Initial NLL: 208.9332, Final NLL: 13.5352, LML: -117.6232\n"
     ]
    },
    {
     "name": "stderr",
     "output_type": "stream",
     "text": [
      "Trials:  12%|█▏        | 6/50 [00:32<03:49,  5.21s/it]"
     ]
    },
    {
     "name": "stdout",
     "output_type": "stream",
     "text": [
      "Trial 6/50 completed. Initial NLL: 178.5294, Final NLL: 13.4583, LML: -119.0697\n"
     ]
    },
    {
     "name": "stderr",
     "output_type": "stream",
     "text": [
      "Trials:  14%|█▍        | 7/50 [00:38<03:57,  5.51s/it]"
     ]
    },
    {
     "name": "stdout",
     "output_type": "stream",
     "text": [
      "Trial 7/50 completed. Initial NLL: 100.3515, Final NLL: 13.5526, LML: -117.3534\n"
     ]
    },
    {
     "name": "stderr",
     "output_type": "stream",
     "text": [
      "Trials:  16%|█▌        | 8/50 [00:44<03:53,  5.57s/it]"
     ]
    },
    {
     "name": "stdout",
     "output_type": "stream",
     "text": [
      "Trial 8/50 completed. Initial NLL: 192.0466, Final NLL: 13.3792, LML: -124.2870\n"
     ]
    },
    {
     "name": "stderr",
     "output_type": "stream",
     "text": [
      "Trials:  18%|█▊        | 9/50 [00:49<03:49,  5.59s/it]"
     ]
    },
    {
     "name": "stdout",
     "output_type": "stream",
     "text": [
      "Trial 9/50 completed. Initial NLL: 143.4359, Final NLL: 13.3980, LML: -120.7695\n"
     ]
    },
    {
     "name": "stderr",
     "output_type": "stream",
     "text": [
      "Trials:  20%|██        | 10/50 [00:55<03:40,  5.51s/it]"
     ]
    },
    {
     "name": "stdout",
     "output_type": "stream",
     "text": [
      "Trial 10/50 completed. Initial NLL: 179.6226, Final NLL: 13.4476, LML: -119.3157\n"
     ]
    },
    {
     "name": "stderr",
     "output_type": "stream",
     "text": [
      "Trials:  22%|██▏       | 11/50 [01:00<03:33,  5.47s/it]"
     ]
    },
    {
     "name": "stdout",
     "output_type": "stream",
     "text": [
      "Trial 11/50 completed. Initial NLL: 196.8365, Final NLL: 13.3738, LML: -123.8830\n"
     ]
    },
    {
     "name": "stderr",
     "output_type": "stream",
     "text": [
      "Trials:  24%|██▍       | 12/50 [01:05<03:29,  5.50s/it]"
     ]
    },
    {
     "name": "stdout",
     "output_type": "stream",
     "text": [
      "Trial 12/50 completed. Initial NLL: 208.4793, Final NLL: 13.3784, LML: -121.7107\n"
     ]
    },
    {
     "name": "stderr",
     "output_type": "stream",
     "text": [
      "Trials:  26%|██▌       | 13/50 [01:11<03:21,  5.44s/it]"
     ]
    },
    {
     "name": "stdout",
     "output_type": "stream",
     "text": [
      "Trial 13/50 completed. Initial NLL: 128.0967, Final NLL: 13.4377, LML: -119.5591\n"
     ]
    },
    {
     "name": "stderr",
     "output_type": "stream",
     "text": [
      "Trials:  28%|██▊       | 14/50 [01:16<03:18,  5.51s/it]"
     ]
    },
    {
     "name": "stdout",
     "output_type": "stream",
     "text": [
      "Trial 14/50 completed. Initial NLL: 218.3783, Final NLL: 13.4377, LML: -119.5600\n"
     ]
    },
    {
     "name": "stderr",
     "output_type": "stream",
     "text": [
      "Trials:  30%|███       | 15/50 [01:22<03:10,  5.44s/it]"
     ]
    },
    {
     "name": "stdout",
     "output_type": "stream",
     "text": [
      "Trial 15/50 completed. Initial NLL: 224.9021, Final NLL: 13.5193, LML: -117.8850\n"
     ]
    },
    {
     "name": "stderr",
     "output_type": "stream",
     "text": [
      "Trials:  32%|███▏      | 16/50 [01:27<03:03,  5.39s/it]"
     ]
    },
    {
     "name": "stdout",
     "output_type": "stream",
     "text": [
      "Trial 16/50 completed. Initial NLL: 209.9643, Final NLL: 13.3720, LML: -122.2372\n"
     ]
    },
    {
     "name": "stderr",
     "output_type": "stream",
     "text": [
      "Trials:  34%|███▍      | 17/50 [01:32<02:57,  5.37s/it]"
     ]
    },
    {
     "name": "stdout",
     "output_type": "stream",
     "text": [
      "Trial 17/50 completed. Initial NLL: 165.3468, Final NLL: 13.3786, LML: -121.6958\n"
     ]
    },
    {
     "name": "stderr",
     "output_type": "stream",
     "text": [
      "Trials:  36%|███▌      | 18/50 [01:38<02:51,  5.34s/it]"
     ]
    },
    {
     "name": "stdout",
     "output_type": "stream",
     "text": [
      "Trial 18/50 completed. Initial NLL: 151.0964, Final NLL: 13.3940, LML: -120.9277\n"
     ]
    },
    {
     "name": "stderr",
     "output_type": "stream",
     "text": [
      "Trials:  38%|███▊      | 19/50 [01:43<02:44,  5.30s/it]"
     ]
    },
    {
     "name": "stdout",
     "output_type": "stream",
     "text": [
      "Trial 19/50 completed. Initial NLL: 193.8844, Final NLL: 13.5498, LML: -117.3966\n"
     ]
    },
    {
     "name": "stderr",
     "output_type": "stream",
     "text": [
      "Trials:  40%|████      | 20/50 [01:48<02:38,  5.30s/it]"
     ]
    },
    {
     "name": "stdout",
     "output_type": "stream",
     "text": [
      "Trial 20/50 completed. Initial NLL: 185.6673, Final NLL: 13.3715, LML: -122.2971\n"
     ]
    },
    {
     "name": "stderr",
     "output_type": "stream",
     "text": [
      "Trials:  42%|████▏     | 21/50 [01:54<02:38,  5.45s/it]"
     ]
    },
    {
     "name": "stdout",
     "output_type": "stream",
     "text": [
      "Trial 21/50 completed. Initial NLL: 194.0424, Final NLL: 13.3728, LML: -122.1456\n"
     ]
    },
    {
     "name": "stderr",
     "output_type": "stream",
     "text": [
      "Trials:  44%|████▍     | 22/50 [01:59<02:32,  5.46s/it]"
     ]
    },
    {
     "name": "stdout",
     "output_type": "stream",
     "text": [
      "Trial 22/50 completed. Initial NLL: 200.5572, Final NLL: 13.4304, LML: -119.7499\n"
     ]
    },
    {
     "name": "stderr",
     "output_type": "stream",
     "text": [
      "Trials:  46%|████▌     | 23/50 [02:05<02:29,  5.54s/it]"
     ]
    },
    {
     "name": "stdout",
     "output_type": "stream",
     "text": [
      "Trial 23/50 completed. Initial NLL: 157.1572, Final NLL: 13.4579, LML: -119.0789\n"
     ]
    },
    {
     "name": "stderr",
     "output_type": "stream",
     "text": [
      "Trials:  48%|████▊     | 24/50 [02:11<02:26,  5.63s/it]"
     ]
    },
    {
     "name": "stdout",
     "output_type": "stream",
     "text": [
      "Trial 24/50 completed. Initial NLL: 202.1792, Final NLL: 13.5425, LML: -117.5079\n"
     ]
    },
    {
     "name": "stderr",
     "output_type": "stream",
     "text": [
      "Trials:  50%|█████     | 25/50 [02:16<02:19,  5.59s/it]"
     ]
    },
    {
     "name": "stdout",
     "output_type": "stream",
     "text": [
      "Trial 25/50 completed. Initial NLL: 211.4928, Final NLL: 13.4337, LML: -119.6617\n"
     ]
    },
    {
     "name": "stderr",
     "output_type": "stream",
     "text": [
      "Trials:  52%|█████▏    | 26/50 [02:22<02:14,  5.60s/it]"
     ]
    },
    {
     "name": "stdout",
     "output_type": "stream",
     "text": [
      "Trial 26/50 completed. Initial NLL: 176.7714, Final NLL: 13.3697, LML: -123.3618\n"
     ]
    },
    {
     "name": "stderr",
     "output_type": "stream",
     "text": [
      "Trials:  54%|█████▍    | 27/50 [02:27<02:07,  5.53s/it]"
     ]
    },
    {
     "name": "stdout",
     "output_type": "stream",
     "text": [
      "Trial 27/50 completed. Initial NLL: 160.9856, Final NLL: 13.5315, LML: -117.6821\n"
     ]
    },
    {
     "name": "stderr",
     "output_type": "stream",
     "text": [
      "Trials:  56%|█████▌    | 28/50 [02:33<02:00,  5.46s/it]"
     ]
    },
    {
     "name": "stdout",
     "output_type": "stream",
     "text": [
      "Trial 28/50 completed. Initial NLL: 231.7788, Final NLL: 13.3776, LML: -124.1790\n"
     ]
    },
    {
     "name": "stderr",
     "output_type": "stream",
     "text": [
      "Trials:  58%|█████▊    | 29/50 [02:38<01:55,  5.51s/it]"
     ]
    },
    {
     "name": "stdout",
     "output_type": "stream",
     "text": [
      "Trial 29/50 completed. Initial NLL: 169.5036, Final NLL: 13.4573, LML: -119.0919\n"
     ]
    },
    {
     "name": "stderr",
     "output_type": "stream",
     "text": [
      "Trials:  60%|██████    | 30/50 [02:44<01:50,  5.54s/it]"
     ]
    },
    {
     "name": "stdout",
     "output_type": "stream",
     "text": [
      "Trial 30/50 completed. Initial NLL: 181.1149, Final NLL: 13.4400, LML: -119.5010\n"
     ]
    },
    {
     "name": "stderr",
     "output_type": "stream",
     "text": [
      "Trials:  62%|██████▏   | 31/50 [02:50<01:45,  5.57s/it]"
     ]
    },
    {
     "name": "stdout",
     "output_type": "stream",
     "text": [
      "Trial 31/50 completed. Initial NLL: 199.5217, Final NLL: 13.5403, LML: -117.5422\n"
     ]
    },
    {
     "name": "stderr",
     "output_type": "stream",
     "text": [
      "Trials:  64%|██████▍   | 32/50 [02:55<01:39,  5.51s/it]"
     ]
    },
    {
     "name": "stdout",
     "output_type": "stream",
     "text": [
      "Trial 32/50 completed. Initial NLL: 182.4455, Final NLL: 13.4475, LML: -119.3191\n"
     ]
    },
    {
     "name": "stderr",
     "output_type": "stream",
     "text": [
      "Trials:  66%|██████▌   | 33/50 [03:00<01:33,  5.49s/it]"
     ]
    },
    {
     "name": "stdout",
     "output_type": "stream",
     "text": [
      "Trial 33/50 completed. Initial NLL: 218.4292, Final NLL: 13.3711, LML: -122.3481\n"
     ]
    },
    {
     "name": "stderr",
     "output_type": "stream",
     "text": [
      "Trials:  68%|██████▊   | 34/50 [03:06<01:28,  5.53s/it]"
     ]
    },
    {
     "name": "stdout",
     "output_type": "stream",
     "text": [
      "Trial 34/50 completed. Initial NLL: 175.7793, Final NLL: 13.4261, LML: -119.8671\n"
     ]
    },
    {
     "name": "stderr",
     "output_type": "stream",
     "text": [
      "Trials:  70%|███████   | 35/50 [03:11<01:21,  5.46s/it]"
     ]
    },
    {
     "name": "stdout",
     "output_type": "stream",
     "text": [
      "Trial 35/50 completed. Initial NLL: 166.2739, Final NLL: 13.3999, LML: -120.6964\n"
     ]
    },
    {
     "name": "stderr",
     "output_type": "stream",
     "text": [
      "Trials:  72%|███████▏  | 36/50 [03:17<01:17,  5.53s/it]"
     ]
    },
    {
     "name": "stdout",
     "output_type": "stream",
     "text": [
      "Trial 36/50 completed. Initial NLL: 210.0357, Final NLL: 13.5510, LML: -117.3783\n"
     ]
    },
    {
     "name": "stderr",
     "output_type": "stream",
     "text": [
      "Trials:  74%|███████▍  | 37/50 [03:23<01:12,  5.59s/it]"
     ]
    },
    {
     "name": "stdout",
     "output_type": "stream",
     "text": [
      "Trial 37/50 completed. Initial NLL: 186.7577, Final NLL: 13.3772, LML: -121.7894\n"
     ]
    },
    {
     "name": "stderr",
     "output_type": "stream",
     "text": [
      "Trials:  76%|███████▌  | 38/50 [03:29<01:08,  5.68s/it]"
     ]
    },
    {
     "name": "stdout",
     "output_type": "stream",
     "text": [
      "Trial 38/50 completed. Initial NLL: 118.0673, Final NLL: 13.4248, LML: -119.9034\n"
     ]
    },
    {
     "name": "stderr",
     "output_type": "stream",
     "text": [
      "Trials:  78%|███████▊  | 39/50 [03:34<01:01,  5.63s/it]"
     ]
    },
    {
     "name": "stdout",
     "output_type": "stream",
     "text": [
      "Trial 39/50 completed. Initial NLL: 101.6015, Final NLL: 13.4890, LML: -118.4321\n"
     ]
    },
    {
     "name": "stderr",
     "output_type": "stream",
     "text": [
      "Trials:  80%|████████  | 40/50 [03:40<00:55,  5.54s/it]"
     ]
    },
    {
     "name": "stdout",
     "output_type": "stream",
     "text": [
      "Trial 40/50 completed. Initial NLL: 206.4627, Final NLL: 13.4790, LML: -118.6304\n"
     ]
    },
    {
     "name": "stderr",
     "output_type": "stream",
     "text": [
      "Trials:  82%|████████▏ | 41/50 [03:45<00:50,  5.58s/it]"
     ]
    },
    {
     "name": "stdout",
     "output_type": "stream",
     "text": [
      "Trial 41/50 completed. Initial NLL: 173.4567, Final NLL: 13.3795, LML: -121.6366\n"
     ]
    },
    {
     "name": "stderr",
     "output_type": "stream",
     "text": [
      "Trials:  84%|████████▍ | 42/50 [03:51<00:45,  5.68s/it]"
     ]
    },
    {
     "name": "stdout",
     "output_type": "stream",
     "text": [
      "Trial 42/50 completed. Initial NLL: 169.7891, Final NLL: 13.3912, LML: -121.0441\n"
     ]
    },
    {
     "name": "stderr",
     "output_type": "stream",
     "text": [
      "Trials:  86%|████████▌ | 43/50 [03:56<00:38,  5.57s/it]"
     ]
    },
    {
     "name": "stdout",
     "output_type": "stream",
     "text": [
      "Trial 43/50 completed. Initial NLL: 221.6427, Final NLL: 13.4652, LML: -118.9174\n"
     ]
    },
    {
     "name": "stderr",
     "output_type": "stream",
     "text": [
      "Trials:  88%|████████▊ | 44/50 [04:02<00:32,  5.48s/it]"
     ]
    },
    {
     "name": "stdout",
     "output_type": "stream",
     "text": [
      "Trial 44/50 completed. Initial NLL: 223.3361, Final NLL: 13.5293, LML: -117.7185\n"
     ]
    },
    {
     "name": "stderr",
     "output_type": "stream",
     "text": [
      "Trials:  90%|█████████ | 45/50 [04:07<00:27,  5.43s/it]"
     ]
    },
    {
     "name": "stdout",
     "output_type": "stream",
     "text": [
      "Trial 45/50 completed. Initial NLL: 215.6679, Final NLL: 13.4514, LML: -119.2273\n"
     ]
    },
    {
     "name": "stderr",
     "output_type": "stream",
     "text": [
      "Trials:  92%|█████████▏| 46/50 [04:12<00:21,  5.39s/it]"
     ]
    },
    {
     "name": "stdout",
     "output_type": "stream",
     "text": [
      "Trial 46/50 completed. Initial NLL: 121.4350, Final NLL: 13.5188, LML: -117.8923\n"
     ]
    },
    {
     "name": "stderr",
     "output_type": "stream",
     "text": [
      "Trials:  94%|█████████▍| 47/50 [04:18<00:16,  5.35s/it]"
     ]
    },
    {
     "name": "stdout",
     "output_type": "stream",
     "text": [
      "Trial 47/50 completed. Initial NLL: 174.1285, Final NLL: 13.5086, LML: -118.0702\n"
     ]
    },
    {
     "name": "stderr",
     "output_type": "stream",
     "text": [
      "Trials:  96%|█████████▌| 48/50 [04:23<00:10,  5.35s/it]"
     ]
    },
    {
     "name": "stdout",
     "output_type": "stream",
     "text": [
      "Trial 48/50 completed. Initial NLL: 143.4921, Final NLL: 13.4305, LML: -119.7477\n"
     ]
    },
    {
     "name": "stderr",
     "output_type": "stream",
     "text": [
      "Trials:  98%|█████████▊| 49/50 [04:28<00:05,  5.31s/it]"
     ]
    },
    {
     "name": "stdout",
     "output_type": "stream",
     "text": [
      "Trial 49/50 completed. Initial NLL: 123.4496, Final NLL: 13.4555, LML: -119.1334\n"
     ]
    },
    {
     "name": "stderr",
     "output_type": "stream",
     "text": [
      "Trials: 100%|██████████| 50/50 [04:34<00:00,  5.49s/it]"
     ]
    },
    {
     "name": "stdout",
     "output_type": "stream",
     "text": [
      "Trial 50/50 completed. Initial NLL: 160.2026, Final NLL: 13.3844, LML: -121.3610\n",
      "Average Initial NLL: 179.5539\n",
      "Average Final NLL: 13.4467\n"
     ]
    },
    {
     "name": "stderr",
     "output_type": "stream",
     "text": [
      "\n"
     ]
    },
    {
     "data": {
      "image/png": "[encoded data removed]",
      "text/plain": [
       "<Figure size 1000x600 with 1 Axes>"
      ]
     },
     "metadata": {},
     "output_type": "display_data"
    }
   ],
   "source": [
    "from tqdm import tqdm\n",
    "\n",
    "n_trials = 50\n",
    "T = 200\n",
    "step_size = 5e-4\n",
    "\n",
    "gathered_trials = []\n",
    "\n",
    "print(f\"Starting experiment with {n_trials} trials\")\n",
    "\n",
    "for n in tqdm(range(n_trials), desc=\"Trials\"):\n",
    "    init_prng(n)\n",
    "    # Random initialization\n",
    "    unconstrained_init = inverse_param_transform(random_init_sqexp_hyperparams())\n",
    "    \n",
    "    # Run empirical Bayes optimization\n",
    "    optimized_hyperparams, final_lml = empirical_bayes(\n",
    "        cov_func=sqexp_cov_function,\n",
    "        X_train=X_train,\n",
    "        Y_train=Y_train,\n",
    "        unconstrained_hyperparams_init=unconstrained_init,\n",
    "        step_size=step_size,\n",
    "        T=T\n",
    "    )\n",
    "    \n",
    "    # Compute initial negative log predictive density\n",
    "    initial_constrained = param_transform(unconstrained_init)\n",
    "    posterior_init = gp_posterior(sqexp_cov_function, X_train, Y_train, initial_constrained)\n",
    "    mean_init, var_init = posterior_init(X_test)\n",
    "    initial_nll = neg_log_predictive_density(Y_test, mean_init, var_init, initial_constrained[0])\n",
    "    \n",
    "    # Compute final negative log predictive density\n",
    "    final_constrained = param_transform(optimized_hyperparams)\n",
    "    posterior_final = gp_posterior(sqexp_cov_function, X_train, Y_train, final_constrained)\n",
    "    mean_final, var_final = posterior_final(X_test)\n",
    "    final_nll = neg_log_predictive_density(Y_test, mean_final, var_final, final_constrained[0])\n",
    "    \n",
    "    # Store results\n",
    "    gathered_trials.append({\n",
    "        'initial_nll': initial_nll,\n",
    "        'final_nll': final_nll,\n",
    "        'log_marginal_likelihood': final_lml\n",
    "    })\n",
    "    print(f\"Trial {n+1}/{n_trials} completed. Initial NLL: {initial_nll:.4f}, Final NLL: {final_nll:.4f}, LML: {final_lml:.4f}\")\n",
    "\n",
    "\n",
    "# Convert gathered_trials to numpy array for easier manipulation\n",
    "initial_nlls = np.array([trial['initial_nll'] for trial in gathered_trials])\n",
    "final_nlls = np.array([trial['final_nll'] for trial in gathered_trials])\n",
    "log_marginal_likelihoods = np.array([trial['log_marginal_likelihood'] for trial in gathered_trials])\n",
    "\n",
    "# Verify improvement\n",
    "average_initial_nll = np.mean(initial_nlls)\n",
    "average_final_nll = np.mean(final_nlls)\n",
    "\n",
    "print(f\"Average Initial NLL: {average_initial_nll:.4f}\")\n",
    "print(f\"Average Final NLL: {average_final_nll:.4f}\")\n",
    "\n",
    "# Plot scatterplot\n",
    "plt.figure(figsize=(10, 6))\n",
    "plt.scatter(log_marginal_likelihoods, final_nlls, alpha=0.7)\n",
    "plt.xlabel('Log Marginal Likelihood')\n",
    "plt.ylabel('Negative Log Predictive Density')\n",
    "plt.title('Log Marginal Likelihood vs Negative Log Predictive Density')\n",
    "plt.grid(True)\n",
    "plt.show()\n"
   ]
  },
  {
   "cell_type": "markdown",
   "id": "da064977",
   "metadata": {},
   "source": [
    "\n",
    "In this experiment, we ran Empirical Bayes optimization across 50 trials with different random initializations. For each trial, we initialized the hyperparameters randomly, optimized them using gradient ascent on the log marginal likelihood, and recorded the negative log predictive density (NLL) before and after optimization.\n",
    "\n",
    "### Results\n",
    "\n",
    "- **Average Initial NLL:** 179.5539\n",
    "- **Average Final NLL:** 13.4467\n",
    "\n",
    "The average NLL consistently improved after optimization, indicating that the Empirical Bayes approach effectively enhanced the model's predictive performance.\n",
    "\n",
    "### Log Marginal Likelihood vs Negative Log Predictive Density\n",
    "\n",
    "The scatterplot shown also illustrates the relationship between the log marginal likelihood and the negative log predictive density across all trials.\n",
    "\n",
    "**Observation:** There is a noticeable inverse relationship between the log marginal likelihood and the NLL. Higher marginal likelihoods correspond to lower NLL values, suggesting that the marginal likelihood is a good indicator of the model's generalization performance."
   ]
  },
  {
   "cell_type": "markdown",
   "id": "838c1238-32ba-4f43-94f7-962d8e350a01",
   "metadata": {},
   "source": [
    "# Experiment 2 - feature importance using learned Mahalanobis distances"
   ]
  },
  {
   "cell_type": "code",
   "execution_count": null,
   "id": "28d8d5ee-5be9-4a80-a97a-4d7b93673d64",
   "metadata": {},
   "outputs": [
    {
     "name": "stdout",
     "output_type": "stream",
     "text": [
      "Final Negative Log Predictive Density: 14.8252\n",
      "Learned Hyperparameters:\n"
     ]
    },
    {
     "data": {
      "text/html": [
       "<div>\n",
       "<style scoped>\n",
       "    .dataframe tbody tr th:only-of-type {\n",
       "        vertical-align: middle;\n",
       "    }\n",
       "\n",
       "    .dataframe tbody tr th {\n",
       "        vertical-align: top;\n",
       "    }\n",
       "\n",
       "    .dataframe thead th {\n",
       "        text-align: right;\n",
       "    }\n",
       "</style>\n",
       "<table border=\"1\" class=\"dataframe\">\n",
       "  <thead>\n",
       "    <tr style=\"text-align: right;\">\n",
       "      <th></th>\n",
       "      <th>Feature</th>\n",
       "      <th>Length Scale</th>\n",
       "    </tr>\n",
       "  </thead>\n",
       "  <tbody>\n",
       "    <tr>\n",
       "      <th>0</th>\n",
       "      <td>Hour of Day</td>\n",
       "      <td>5.760905</td>\n",
       "    </tr>\n",
       "    <tr>\n",
       "      <th>1</th>\n",
       "      <td>Carbon Monoxide Level</td>\n",
       "      <td>2.788450</td>\n",
       "    </tr>\n",
       "    <tr>\n",
       "      <th>2</th>\n",
       "      <td>Non-Methane Hydrocarbons Level</td>\n",
       "      <td>3.631931</td>\n",
       "    </tr>\n",
       "    <tr>\n",
       "      <th>3</th>\n",
       "      <td>Nitrogen Oxides Level</td>\n",
       "      <td>1.580439</td>\n",
       "    </tr>\n",
       "    <tr>\n",
       "      <th>4</th>\n",
       "      <td>Temperature</td>\n",
       "      <td>11.521996</td>\n",
       "    </tr>\n",
       "    <tr>\n",
       "      <th>5</th>\n",
       "      <td>Relative Humidity</td>\n",
       "      <td>10.814553</td>\n",
       "    </tr>\n",
       "    <tr>\n",
       "      <th>6</th>\n",
       "      <td>Absolute Humidity</td>\n",
       "      <td>6.574848</td>\n",
       "    </tr>\n",
       "  </tbody>\n",
       "</table>\n",
       "</div>"
      ],
      "text/plain": [
       "                          Feature  Length Scale\n",
       "0                     Hour of Day      5.760905\n",
       "1           Carbon Monoxide Level      2.788450\n",
       "2  Non-Methane Hydrocarbons Level      3.631931\n",
       "3           Nitrogen Oxides Level      1.580439\n",
       "4                     Temperature     11.521996\n",
       "5               Relative Humidity     10.814553\n",
       "6               Absolute Humidity      6.574848"
      ]
     },
     "metadata": {},
     "output_type": "display_data"
    }
   ],
   "source": [
    "# Experiment 2 - Feature Importance Using Learned Mahalanobis Distances\n",
    "\n",
    "import pandas as pd\n",
    "\n",
    "# Define feature names based on the dataset description\n",
    "feature_names = [\n",
    "    \"Hour of Day\",\n",
    "    \"Carbon Monoxide Level\",\n",
    "    \"Non-Methane Hydrocarbons Level\",\n",
    "    \"Nitrogen Oxides Level\",\n",
    "    \"Temperature\",\n",
    "    \"Relative Humidity\",\n",
    "    \"Absolute Humidity\"\n",
    "]\n",
    "\n",
    "# Initialize hyperparameters: [noise variance, signal variance, length scales...]\n",
    "init_params = [1e0, 1e0] + [X_train.shape[1]*1e0 for _ in range(X_train.shape[1])]\n",
    "init_params = np.array(init_params)\n",
    "\n",
    "# Perform a single run of Empirical Bayes with Mahalanobis Squared-Exponential Kernel\n",
    "optimized_hyperparams, final_lml = empirical_bayes(\n",
    "    cov_func=sqexp_mahalanobis_cov_function,\n",
    "    X_train=X_train,\n",
    "    Y_train=Y_train,\n",
    "    unconstrained_hyperparams_init=inverse_param_transform(init_params),\n",
    "    step_size=5e-4,\n",
    "    T=200\n",
    ")\n",
    "\n",
    "# Transform optimized hyperparameters back to constrained space\n",
    "final_constrained = param_transform(optimized_hyperparams)\n",
    "\n",
    "# Compute Negative Log Predictive Density after optimization\n",
    "posterior_final = gp_posterior(sqexp_mahalanobis_cov_function, X_train, Y_train, final_constrained)\n",
    "mean_final, var_final = posterior_final(X_test)\n",
    "final_nll = neg_log_predictive_density(Y_test, mean_final, var_final, final_constrained[0])\n",
    "\n",
    "print(f\"Final Negative Log Predictive Density: {final_nll:.4f}\")\n",
    "\n",
    "# Extract and display the learned hyperparameters\n",
    "noise_variance = final_constrained[0]\n",
    "signal_variance = final_constrained[1]\n",
    "length_scales = final_constrained[2:]\n",
    "\n",
    "hyperparams_df = pd.DataFrame({\n",
    "    \"Feature\": feature_names,\n",
    "    \"Length Scale\": length_scales\n",
    "})\n",
    "\n",
    "print(\"Learned Hyperparameters:\")\n",
    "display(hyperparams_df)"
   ]
  },
  {
   "cell_type": "markdown",
   "id": "d7a21b38",
   "metadata": {},
   "source": [
    "### Discussion on Learned Hyperparameters and Feature Importance\n",
    "\n",
    "After performing Empirical Bayes optimization using the Mahalanobis Squared-Exponential Kernel, we obtained the learned hyperparameters for each feature (see table right above).\n",
    "\n",
    "The importance of a feature is inversely related to its length scale $ \\ell $ in the covariance function. Smaller length scales indicate that the function varies more rapidly with that feature, implying that the feature has a significant impact on the model's predictions. \n",
    "\n",
    "The covariance function using a Squared-Exponential (SE) kernel is defined as:\n",
    "\n",
    "$\n",
    "k(x, x') = \\sigma_f^2 \\exp\\left( -\\frac{1}{2} \\sum_{i=1}^{d} \\frac{(x_i - x'_i)^2}{\\ell_i^2} \\right)\n",
    "$\n",
    "\n",
    "Where:\n",
    "- $ k(x, x') $ is the covariance between two data points $ x $ and $ x' $.\n",
    "- $\\sigma_f^2 $ is the signal variance.\n",
    "- $ \\ell_i $ is the length scale for the $i$-th feature.\n",
    "- $ x_i $ and $ x'_i $ are the values of the $i$-th feature for the two data points.\n",
    "\n",
    "The importance of a feature $ i $ is determined by its length scale $ \\ell_i $. Smaller $ \\ell_i $ implies higher sensitivity to changes in feature $i $.\n",
    "\n",
    "$\n",
    "\\text{Feature Importance} \\propto \\frac{1}{\\ell_i}\n",
    "$\n",
    "\n",
    "Based on the learned length scales, we can see that the most important features are those with smaller length scales like \"Nitrogen Oxides Level\" and \"Non-Methane Hydrocarbons Level\". This indicates high sensitivity and significant influence on benzene level predictions. The least important features are the ones with the largest length scales. This is exemplified by features such as \"Relative Humidity\" or \"Temperature\", which suggests minimal impact on predictive performance.\n",
    "\n",
    "In general, Empirical Bayes optimizes hyperparameters by balancing data fit and model complexity. The marginal likelihood maximized during this process is given by:\n",
    "\n",
    "$\n",
    "\\log p(\\mathbf{y}|\\mathbf{X}, \\theta) = -\\frac{1}{2} \\mathbf{y}^T K^{-1} \\mathbf{y} - \\frac{1}{2} \\log |K| - \\frac{n}{2} \\log 2\\pi\n",
    "$\n",
    "\n",
    "Where:\n",
    "- $ \\mathbf{y} $ is the vector of observed data.\n",
    "- $ K $ is the covariance matrix.\n",
    "- $ \\theta $ are the hyperparameters (e.g., $ \\ell $ and $ \\sigma_f^2 $).\n",
    "\n",
    "By learning appropriate length scales, the model avoids overfitting by not relying excessively on noisy or irrelevant features. If a feature does not significantly improve the data fit, Empirical Bayes will increase its length scale, effectively reducing its importance. This automatic relevance determination ensures that only the most informative features influence the predictions, enhancing the model's generalization capabilities."
   ]
  }
 ],
 "metadata": {
  "kernelspec": {
   "display_name": "Python 3 (ipykernel)",
   "language": "python",
   "name": "python3"
  },
  "language_info": {
   "codemirror_mode": {
    "name": "ipython",
    "version": 3
   },
   "file_extension": ".py",
   "mimetype": "text/x-python",
   "name": "python",
   "nbconvert_exporter": "python",
   "pygments_lexer": "ipython3",
   "version": "3.12.2"
  }
 },
 "nbformat": 4,
 "nbformat_minor": 5
}
