{
 "cells": [
  {
   "cell_type": "code",
   "execution_count": 1,
   "id": "d80707a1-2f16-4bd2-8774-bcc3b6347ee2",
   "metadata": {},
   "outputs": [],
   "source": [
    "from gp import *\n",
    "import matplotlib.pyplot as plt\n",
    "plt.style.use('ggplot')"
   ]
  },
  {
   "cell_type": "markdown",
   "id": "5b61bab1-6888-48b2-ad1e-09737697ae28",
   "metadata": {},
   "source": [
    "# Data"
   ]
  },
  {
   "cell_type": "markdown",
   "id": "8a7c13dc-25d0-4fe3-a4c3-3266268b5a31",
   "metadata": {},
   "source": [
    "**Note**: the data has already been standardized - both the input (X) and output (Y)."
   ]
  },
  {
   "cell_type": "code",
   "execution_count": 2,
   "id": "bc6b3d12-3689-42da-8456-ab318779f67e",
   "metadata": {},
   "outputs": [],
   "source": [
    "X_train = np.load('X_train.npy')\n",
    "Y_train = np.load('Y_train.npy')\n",
    "X_test = np.load('X_test.npy')\n",
    "Y_test = np.load('Y_test.npy')"
   ]
  },
  {
   "cell_type": "markdown",
   "id": "0eece8ba-7932-4338-b9bb-1da218726f8a",
   "metadata": {},
   "source": [
    "# Hyperparameter initialization"
   ]
  },
  {
   "cell_type": "markdown",
   "id": "f053f909-8261-4872-9729-6f4e04231514",
   "metadata": {},
   "source": [
    "Note that, in the below initialization, it is assumed that noise variance is the first component, signal variance the second, and length scale the third. Feel free to modify if using pytrees.\n",
    "\n",
    "Further note: these are assumed constrained (strictly positive). You should map to unconstrained prior to running optimization, and map back to constrained when forming the GP posterior, and evaluating the predictive density for evaluation."
   ]
  },
  {
   "cell_type": "code",
   "execution_count": 3,
   "id": "4de92ec2-abac-4905-9e75-0294b86194ec",
   "metadata": {},
   "outputs": [],
   "source": [
    "def random_init_sqexp_hyperparams():\n",
    "    return np.array([jax.random.uniform(grab_prng(), minval=0.2, maxval=2),\n",
    "                     jax.random.uniform(grab_prng(), minval=0.2, maxval=2),\n",
    "                     X_train.shape[1]*jax.random.uniform(grab_prng(), minval=1, maxval=10)])\n",
    "#"
   ]
  },
  {
   "cell_type": "markdown",
   "id": "d2b21180-e161-471e-b974-5af0442e297f",
   "metadata": {},
   "source": [
    "# Plotting code"
   ]
  },
  {
   "cell_type": "code",
   "execution_count": 4,
   "id": "1f2b728b-22b4-49d4-a3da-fa1da6cb7538",
   "metadata": {},
   "outputs": [],
   "source": [
    "def scatterplot(lml_lpd):\n",
    "    plt.scatter(lml_lpd[:,0], lml_lpd[:,1])\n",
    "    \n",
    "    plt.xlabel('Log marginal likelihood')\n",
    "    plt.ylabel('Negative log predictive density')\n",
    "    plt.title('Is marginal likelihood a good indicator of generalization?')\n",
    "    plt.legend()\n",
    "#"
   ]
  },
  {
   "cell_type": "markdown",
   "id": "2daacf8b-66f5-4922-a1ef-cfad27a2c1e5",
   "metadata": {},
   "source": [
    "# Experiment 1: Empirical Bayes for squared-exponential kernel"
   ]
  },
  {
   "cell_type": "code",
   "execution_count": 8,
   "id": "84862917-0610-406a-a1de-6caa919d17ce",
   "metadata": {},
   "outputs": [
    {
     "name": "stdout",
     "output_type": "stream",
     "text": [
      "Starting experiment with 50 trials\n"
     ]
    },
    {
     "name": "stderr",
     "output_type": "stream",
     "text": [
      "Trials:   2%|▏         | 1/50 [00:04<03:50,  4.71s/it]"
     ]
    },
    {
     "name": "stdout",
     "output_type": "stream",
     "text": [
      "Trial 1/50 completed. Initial NLL: 221.5250, Final NLL: 178.4136, LML: -1037.3063\n"
     ]
    },
    {
     "name": "stderr",
     "output_type": "stream",
     "text": [
      "Trials:   4%|▍         | 2/50 [00:09<03:38,  4.56s/it]"
     ]
    },
    {
     "name": "stdout",
     "output_type": "stream",
     "text": [
      "Trial 2/50 completed. Initial NLL: 139.7447, Final NLL: 191.2428, LML: -1054.5865\n"
     ]
    },
    {
     "name": "stderr",
     "output_type": "stream",
     "text": [
      "Trials:   6%|▌         | 3/50 [00:13<03:29,  4.46s/it]"
     ]
    },
    {
     "name": "stdout",
     "output_type": "stream",
     "text": [
      "Trial 3/50 completed. Initial NLL: 210.2848, Final NLL: 188.3998, LML: -1049.5747\n"
     ]
    },
    {
     "name": "stderr",
     "output_type": "stream",
     "text": [
      "Trials:   8%|▊         | 4/50 [00:17<03:22,  4.41s/it]"
     ]
    },
    {
     "name": "stdout",
     "output_type": "stream",
     "text": [
      "Trial 4/50 completed. Initial NLL: 170.8862, Final NLL: 195.7780, LML: -1064.3627\n"
     ]
    },
    {
     "name": "stderr",
     "output_type": "stream",
     "text": [
      "Trials:  10%|█         | 5/50 [00:22<03:16,  4.38s/it]"
     ]
    },
    {
     "name": "stdout",
     "output_type": "stream",
     "text": [
      "Trial 5/50 completed. Initial NLL: 199.9648, Final NLL: 168.3231, LML: -1027.4786\n"
     ]
    },
    {
     "name": "stderr",
     "output_type": "stream",
     "text": [
      "Trials:  12%|█▏        | 6/50 [00:26<03:10,  4.34s/it]"
     ]
    },
    {
     "name": "stdout",
     "output_type": "stream",
     "text": [
      "Trial 6/50 completed. Initial NLL: 185.5020, Final NLL: 191.5855, LML: -1055.2539\n"
     ]
    },
    {
     "name": "stderr",
     "output_type": "stream",
     "text": [
      "Trials:  14%|█▍        | 7/50 [00:30<03:06,  4.33s/it]"
     ]
    },
    {
     "name": "stdout",
     "output_type": "stream",
     "text": [
      "Trial 7/50 completed. Initial NLL: 185.7252, Final NLL: 195.1620, LML: -1062.9341\n"
     ]
    },
    {
     "name": "stderr",
     "output_type": "stream",
     "text": [
      "Trials:  16%|█▌        | 8/50 [00:35<03:02,  4.33s/it]"
     ]
    },
    {
     "name": "stdout",
     "output_type": "stream",
     "text": [
      "Trial 8/50 completed. Initial NLL: 205.5832, Final NLL: 195.9886, LML: -1064.8568\n"
     ]
    },
    {
     "name": "stderr",
     "output_type": "stream",
     "text": [
      "Trials:  18%|█▊        | 9/50 [00:39<02:57,  4.33s/it]"
     ]
    },
    {
     "name": "stdout",
     "output_type": "stream",
     "text": [
      "Trial 9/50 completed. Initial NLL: 217.2022, Final NLL: 191.7821, LML: -1055.6430\n"
     ]
    },
    {
     "name": "stderr",
     "output_type": "stream",
     "text": [
      "Trials:  20%|██        | 10/50 [00:43<02:53,  4.33s/it]"
     ]
    },
    {
     "name": "stdout",
     "output_type": "stream",
     "text": [
      "Trial 10/50 completed. Initial NLL: 97.5169, Final NLL: 196.3333, LML: -1065.6716\n"
     ]
    },
    {
     "name": "stderr",
     "output_type": "stream",
     "text": [
      "Trials:  22%|██▏       | 11/50 [00:47<02:47,  4.29s/it]"
     ]
    },
    {
     "name": "stdout",
     "output_type": "stream",
     "text": [
      "Trial 11/50 completed. Initial NLL: 215.2387, Final NLL: 195.0305, LML: -1062.6324\n"
     ]
    },
    {
     "name": "stderr",
     "output_type": "stream",
     "text": [
      "Trials:  24%|██▍       | 12/50 [00:52<02:42,  4.29s/it]"
     ]
    },
    {
     "name": "stdout",
     "output_type": "stream",
     "text": [
      "Trial 12/50 completed. Initial NLL: 203.0768, Final NLL: 192.2712, LML: -1056.6294\n"
     ]
    },
    {
     "name": "stderr",
     "output_type": "stream",
     "text": [
      "Trials:  26%|██▌       | 13/50 [00:56<02:38,  4.29s/it]"
     ]
    },
    {
     "name": "stdout",
     "output_type": "stream",
     "text": [
      "Trial 13/50 completed. Initial NLL: 218.4855, Final NLL: 195.2427, LML: -1063.1199\n"
     ]
    },
    {
     "name": "stderr",
     "output_type": "stream",
     "text": [
      "Trials:  28%|██▊       | 14/50 [01:00<02:34,  4.28s/it]"
     ]
    },
    {
     "name": "stdout",
     "output_type": "stream",
     "text": [
      "Trial 14/50 completed. Initial NLL: 212.3634, Final NLL: 193.1118, LML: -1058.3842\n"
     ]
    },
    {
     "name": "stderr",
     "output_type": "stream",
     "text": [
      "Trials:  30%|███       | 15/50 [01:05<02:30,  4.30s/it]"
     ]
    },
    {
     "name": "stdout",
     "output_type": "stream",
     "text": [
      "Trial 15/50 completed. Initial NLL: 200.9305, Final NLL: 194.6330, LML: -1061.7281\n"
     ]
    },
    {
     "name": "stderr",
     "output_type": "stream",
     "text": [
      "Trials:  32%|███▏      | 16/50 [01:09<02:28,  4.37s/it]"
     ]
    },
    {
     "name": "stdout",
     "output_type": "stream",
     "text": [
      "Trial 16/50 completed. Initial NLL: 212.8134, Final NLL: 183.1460, LML: -1042.3805\n"
     ]
    },
    {
     "name": "stderr",
     "output_type": "stream",
     "text": [
      "Trials:  34%|███▍      | 17/50 [01:14<02:25,  4.40s/it]"
     ]
    },
    {
     "name": "stdout",
     "output_type": "stream",
     "text": [
      "Trial 17/50 completed. Initial NLL: 211.4825, Final NLL: 195.8621, LML: -1064.5598\n"
     ]
    },
    {
     "name": "stderr",
     "output_type": "stream",
     "text": [
      "Trials:  36%|███▌      | 18/50 [01:18<02:21,  4.41s/it]"
     ]
    },
    {
     "name": "stdout",
     "output_type": "stream",
     "text": [
      "Trial 18/50 completed. Initial NLL: 131.5047, Final NLL: 195.4123, LML: -1063.5116\n"
     ]
    },
    {
     "name": "stderr",
     "output_type": "stream",
     "text": [
      "Trials:  38%|███▊      | 19/50 [01:23<02:18,  4.46s/it]"
     ]
    },
    {
     "name": "stdout",
     "output_type": "stream",
     "text": [
      "Trial 19/50 completed. Initial NLL: 215.0462, Final NLL: 194.0143, LML: -1060.3443\n"
     ]
    },
    {
     "name": "stderr",
     "output_type": "stream",
     "text": [
      "Trials:  40%|████      | 20/50 [01:27<02:14,  4.47s/it]"
     ]
    },
    {
     "name": "stdout",
     "output_type": "stream",
     "text": [
      "Trial 20/50 completed. Initial NLL: 177.4984, Final NLL: 193.4665, LML: -1059.1457\n"
     ]
    },
    {
     "name": "stderr",
     "output_type": "stream",
     "text": [
      "Trials:  42%|████▏     | 21/50 [01:32<02:10,  4.49s/it]"
     ]
    },
    {
     "name": "stdout",
     "output_type": "stream",
     "text": [
      "Trial 21/50 completed. Initial NLL: 209.0883, Final NLL: 195.2945, LML: -1063.2392\n"
     ]
    },
    {
     "name": "stderr",
     "output_type": "stream",
     "text": [
      "Trials:  44%|████▍     | 22/50 [01:36<02:06,  4.53s/it]"
     ]
    },
    {
     "name": "stdout",
     "output_type": "stream",
     "text": [
      "Trial 22/50 completed. Initial NLL: 150.5730, Final NLL: 195.5308, LML: -1063.7864\n"
     ]
    },
    {
     "name": "stderr",
     "output_type": "stream",
     "text": [
      "Trials:  46%|████▌     | 23/50 [01:41<02:03,  4.56s/it]"
     ]
    },
    {
     "name": "stdout",
     "output_type": "stream",
     "text": [
      "Trial 23/50 completed. Initial NLL: 166.3370, Final NLL: 194.2095, LML: -1060.7777\n"
     ]
    },
    {
     "name": "stderr",
     "output_type": "stream",
     "text": [
      "Trials:  48%|████▊     | 24/50 [01:45<01:58,  4.55s/it]"
     ]
    },
    {
     "name": "stdout",
     "output_type": "stream",
     "text": [
      "Trial 24/50 completed. Initial NLL: 105.5431, Final NLL: 195.9625, LML: -1064.7954\n"
     ]
    },
    {
     "name": "stderr",
     "output_type": "stream",
     "text": [
      "Trials:  50%|█████     | 25/50 [01:50<01:53,  4.54s/it]"
     ]
    },
    {
     "name": "stdout",
     "output_type": "stream",
     "text": [
      "Trial 25/50 completed. Initial NLL: 163.9762, Final NLL: 195.0541, LML: -1062.6864\n"
     ]
    },
    {
     "name": "stderr",
     "output_type": "stream",
     "text": [
      "Trials:  52%|█████▏    | 26/50 [01:54<01:49,  4.55s/it]"
     ]
    },
    {
     "name": "stdout",
     "output_type": "stream",
     "text": [
      "Trial 26/50 completed. Initial NLL: 190.6454, Final NLL: 193.1211, LML: -1058.4041\n"
     ]
    },
    {
     "name": "stderr",
     "output_type": "stream",
     "text": [
      "Trials:  54%|█████▍    | 27/50 [01:59<01:44,  4.53s/it]"
     ]
    },
    {
     "name": "stdout",
     "output_type": "stream",
     "text": [
      "Trial 27/50 completed. Initial NLL: 215.2867, Final NLL: 155.6001, LML: -1009.4159\n"
     ]
    },
    {
     "name": "stderr",
     "output_type": "stream",
     "text": [
      "Trials:  56%|█████▌    | 28/50 [02:03<01:39,  4.51s/it]"
     ]
    },
    {
     "name": "stdout",
     "output_type": "stream",
     "text": [
      "Trial 28/50 completed. Initial NLL: 141.3702, Final NLL: 195.3833, LML: -1063.4445\n"
     ]
    },
    {
     "name": "stderr",
     "output_type": "stream",
     "text": [
      "Trials:  58%|█████▊    | 29/50 [02:08<01:34,  4.48s/it]"
     ]
    },
    {
     "name": "stdout",
     "output_type": "stream",
     "text": [
      "Trial 29/50 completed. Initial NLL: 181.3101, Final NLL: 195.9816, LML: -1064.8405\n"
     ]
    },
    {
     "name": "stderr",
     "output_type": "stream",
     "text": [
      "Trials:  60%|██████    | 30/50 [02:12<01:28,  4.44s/it]"
     ]
    },
    {
     "name": "stdout",
     "output_type": "stream",
     "text": [
      "Trial 30/50 completed. Initial NLL: 205.3493, Final NLL: 191.7848, LML: -1055.6483\n"
     ]
    },
    {
     "name": "stderr",
     "output_type": "stream",
     "text": [
      "Trials:  62%|██████▏   | 31/50 [02:17<01:23,  4.41s/it]"
     ]
    },
    {
     "name": "stdout",
     "output_type": "stream",
     "text": [
      "Trial 31/50 completed. Initial NLL: 207.5655, Final NLL: 195.9209, LML: -1064.6977\n"
     ]
    },
    {
     "name": "stderr",
     "output_type": "stream",
     "text": [
      "Trials:  64%|██████▍   | 32/50 [02:21<01:18,  4.38s/it]"
     ]
    },
    {
     "name": "stdout",
     "output_type": "stream",
     "text": [
      "Trial 32/50 completed. Initial NLL: 184.3635, Final NLL: 188.8390, LML: -1050.2891\n"
     ]
    },
    {
     "name": "stderr",
     "output_type": "stream",
     "text": [
      "Trials:  66%|██████▌   | 33/50 [02:25<01:13,  4.35s/it]"
     ]
    },
    {
     "name": "stdout",
     "output_type": "stream",
     "text": [
      "Trial 33/50 completed. Initial NLL: 103.9992, Final NLL: 195.5108, LML: -1063.7399\n"
     ]
    },
    {
     "name": "stderr",
     "output_type": "stream",
     "text": [
      "Trials:  68%|██████▊   | 34/50 [02:29<01:09,  4.35s/it]"
     ]
    },
    {
     "name": "stdout",
     "output_type": "stream",
     "text": [
      "Trial 34/50 completed. Initial NLL: 193.0915, Final NLL: 194.3208, LML: -1061.0261\n"
     ]
    },
    {
     "name": "stderr",
     "output_type": "stream",
     "text": [
      "Trials:  70%|███████   | 35/50 [02:34<01:05,  4.35s/it]"
     ]
    },
    {
     "name": "stdout",
     "output_type": "stream",
     "text": [
      "Trial 35/50 completed. Initial NLL: 160.8709, Final NLL: 183.0559, LML: -1042.2745\n"
     ]
    },
    {
     "name": "stderr",
     "output_type": "stream",
     "text": [
      "Trials:  72%|███████▏  | 36/50 [02:38<01:00,  4.34s/it]"
     ]
    },
    {
     "name": "stdout",
     "output_type": "stream",
     "text": [
      "Trial 36/50 completed. Initial NLL: 136.7934, Final NLL: 183.8619, LML: -1043.2397\n"
     ]
    },
    {
     "name": "stderr",
     "output_type": "stream",
     "text": [
      "Trials:  74%|███████▍  | 37/50 [02:43<00:56,  4.35s/it]"
     ]
    },
    {
     "name": "stdout",
     "output_type": "stream",
     "text": [
      "Trial 37/50 completed. Initial NLL: 203.7419, Final NLL: 193.7637, LML: -1059.7929\n"
     ]
    },
    {
     "name": "stderr",
     "output_type": "stream",
     "text": [
      "Trials:  76%|███████▌  | 38/50 [02:47<00:51,  4.33s/it]"
     ]
    },
    {
     "name": "stdout",
     "output_type": "stream",
     "text": [
      "Trial 38/50 completed. Initial NLL: 205.1166, Final NLL: 189.6689, LML: -1051.6973\n"
     ]
    },
    {
     "name": "stderr",
     "output_type": "stream",
     "text": [
      "Trials:  78%|███████▊  | 39/50 [02:51<00:48,  4.43s/it]"
     ]
    },
    {
     "name": "stdout",
     "output_type": "stream",
     "text": [
      "Trial 39/50 completed. Initial NLL: 194.0002, Final NLL: 191.9462, LML: -1055.9708\n"
     ]
    },
    {
     "name": "stderr",
     "output_type": "stream",
     "text": [
      "Trials:  80%|████████  | 40/50 [02:56<00:44,  4.48s/it]"
     ]
    },
    {
     "name": "stdout",
     "output_type": "stream",
     "text": [
      "Trial 40/50 completed. Initial NLL: 99.2207, Final NLL: 195.6498, LML: -1064.0634\n"
     ]
    },
    {
     "name": "stderr",
     "output_type": "stream",
     "text": [
      "Trials:  82%|████████▏ | 41/50 [03:01<00:40,  4.53s/it]"
     ]
    },
    {
     "name": "stdout",
     "output_type": "stream",
     "text": [
      "Trial 41/50 completed. Initial NLL: 205.6625, Final NLL: 193.8452, LML: -1059.9716\n"
     ]
    },
    {
     "name": "stderr",
     "output_type": "stream",
     "text": [
      "Trials:  84%|████████▍ | 42/50 [03:05<00:36,  4.58s/it]"
     ]
    },
    {
     "name": "stdout",
     "output_type": "stream",
     "text": [
      "Trial 42/50 completed. Initial NLL: 148.5537, Final NLL: 195.4660, LML: -1063.6361\n"
     ]
    },
    {
     "name": "stderr",
     "output_type": "stream",
     "text": [
      "Trials:  86%|████████▌ | 43/50 [03:10<00:31,  4.49s/it]"
     ]
    },
    {
     "name": "stdout",
     "output_type": "stream",
     "text": [
      "Trial 43/50 completed. Initial NLL: 174.2795, Final NLL: 193.0725, LML: -1058.3005\n"
     ]
    },
    {
     "name": "stderr",
     "output_type": "stream",
     "text": [
      "Trials:  88%|████████▊ | 44/50 [03:14<00:26,  4.43s/it]"
     ]
    },
    {
     "name": "stdout",
     "output_type": "stream",
     "text": [
      "Trial 44/50 completed. Initial NLL: 200.2569, Final NLL: 195.8108, LML: -1064.4394\n"
     ]
    },
    {
     "name": "stderr",
     "output_type": "stream",
     "text": [
      "Trials:  90%|█████████ | 45/50 [03:18<00:21,  4.39s/it]"
     ]
    },
    {
     "name": "stdout",
     "output_type": "stream",
     "text": [
      "Trial 45/50 completed. Initial NLL: 222.8030, Final NLL: 193.7526, LML: -1059.7684\n"
     ]
    },
    {
     "name": "stderr",
     "output_type": "stream",
     "text": [
      "Trials:  92%|█████████▏| 46/50 [03:23<00:17,  4.35s/it]"
     ]
    },
    {
     "name": "stdout",
     "output_type": "stream",
     "text": [
      "Trial 46/50 completed. Initial NLL: 213.7868, Final NLL: 194.5832, LML: -1061.6155\n"
     ]
    },
    {
     "name": "stderr",
     "output_type": "stream",
     "text": [
      "Trials:  94%|█████████▍| 47/50 [03:27<00:13,  4.36s/it]"
     ]
    },
    {
     "name": "stdout",
     "output_type": "stream",
     "text": [
      "Trial 47/50 completed. Initial NLL: 202.2752, Final NLL: 194.3441, LML: -1061.0782\n"
     ]
    },
    {
     "name": "stderr",
     "output_type": "stream",
     "text": [
      "Trials:  96%|█████████▌| 48/50 [03:31<00:08,  4.33s/it]"
     ]
    },
    {
     "name": "stdout",
     "output_type": "stream",
     "text": [
      "Trial 48/50 completed. Initial NLL: 220.3721, Final NLL: 194.4583, LML: -1061.3342\n"
     ]
    },
    {
     "name": "stderr",
     "output_type": "stream",
     "text": [
      "Trials:  98%|█████████▊| 49/50 [03:36<00:04,  4.33s/it]"
     ]
    },
    {
     "name": "stdout",
     "output_type": "stream",
     "text": [
      "Trial 49/50 completed. Initial NLL: 172.2915, Final NLL: 195.6609, LML: -1064.0893\n"
     ]
    },
    {
     "name": "stderr",
     "output_type": "stream",
     "text": [
      "Trials: 100%|██████████| 50/50 [03:40<00:00,  4.41s/it]"
     ]
    },
    {
     "name": "stdout",
     "output_type": "stream",
     "text": [
      "Trial 50/50 completed. Initial NLL: 222.7680, Final NLL: 188.9164, LML: -1050.4171\n",
      "Average Initial NLL: 184.6733\n",
      "Average Final NLL: 191.7114\n"
     ]
    },
    {
     "name": "stderr",
     "output_type": "stream",
     "text": [
      "\n"
     ]
    },
    {
     "data": {
      "image/png": "[encoded data removed]",
      "text/plain": [
       "<Figure size 1000x600 with 1 Axes>"
      ]
     },
     "metadata": {},
     "output_type": "display_data"
    }
   ],
   "source": [
    "from tqdm import tqdm\n",
    "\n",
    "n_trials = 50\n",
    "T = 200\n",
    "step_size = 5e-4\n",
    "\n",
    "gathered_trials = []\n",
    "\n",
    "init_prng(42)\n",
    "\n",
    "print(f\"Starting experiment with {n_trials} trials\")\n",
    "for n in tqdm(range(n_trials), desc=\"Trials\"):\n",
    "    # Random initialization\n",
    "    unconstrained_init = inverse_param_transform(random_init_sqexp_hyperparams())\n",
    "    \n",
    "    # Run empirical Bayes optimization\n",
    "    optimized_hyperparams, final_lml = empirical_bayes(\n",
    "        cov_func=sqexp_cov_function,\n",
    "        X_train=X_train,\n",
    "        Y_train=Y_train,\n",
    "        unconstrained_hyperparams_init=unconstrained_init,\n",
    "        step_size=step_size,\n",
    "        T=T\n",
    "    )\n",
    "    \n",
    "    # Compute initial negative log predictive density\n",
    "    initial_constrained = param_transform(unconstrained_init)\n",
    "    posterior_init = gp_posterior(sqexp_cov_function, X_train, Y_train, initial_constrained)\n",
    "    mean_init, var_init = posterior_init(X_test)\n",
    "    initial_nll = neg_log_predictive_density(Y_test, mean_init, var_init, initial_constrained[0])\n",
    "    \n",
    "    # Compute final negative log predictive density\n",
    "    final_constrained = param_transform(optimized_hyperparams)\n",
    "    posterior_final = gp_posterior(sqexp_cov_function, X_train, Y_train, final_constrained)\n",
    "    mean_final, var_final = posterior_final(X_test)\n",
    "    final_nll = neg_log_predictive_density(Y_test, mean_final, var_final, final_constrained[0])\n",
    "    \n",
    "    # Store results\n",
    "    gathered_trials.append({\n",
    "        'initial_nll': initial_nll,\n",
    "        'final_nll': final_nll,\n",
    "        'log_marginal_likelihood': final_lml\n",
    "    })\n",
    "    print(f\"Trial {n+1}/{n_trials} completed. Initial NLL: {initial_nll:.4f}, Final NLL: {final_nll:.4f}, LML: {final_lml:.4f}\")\n",
    "\n",
    "\n",
    "# Convert gathered_trials to numpy array for easier manipulation\n",
    "initial_nlls = np.array([trial['initial_nll'] for trial in gathered_trials])\n",
    "final_nlls = np.array([trial['final_nll'] for trial in gathered_trials])\n",
    "log_marginal_likelihoods = np.array([trial['log_marginal_likelihood'] for trial in gathered_trials])\n",
    "\n",
    "# Verify improvement\n",
    "average_initial_nll = np.mean(initial_nlls)\n",
    "average_final_nll = np.mean(final_nlls)\n",
    "\n",
    "print(f\"Average Initial NLL: {average_initial_nll:.4f}\")\n",
    "print(f\"Average Final NLL: {average_final_nll:.4f}\")\n",
    "\n",
    "# Plot scatterplot\n",
    "plt.figure(figsize=(10, 6))\n",
    "plt.scatter(log_marginal_likelihoods, final_nlls, alpha=0.7)\n",
    "plt.xlabel('Log Marginal Likelihood')\n",
    "plt.ylabel('Negative Log Predictive Density')\n",
    "plt.title('Log Marginal Likelihood vs Negative Log Predictive Density')\n",
    "plt.grid(True)\n",
    "plt.show()\n"
   ]
  },
  {
   "cell_type": "markdown",
   "id": "da064977",
   "metadata": {},
   "source": [
    "\n",
    "In this experiment, we ran Empirical Bayes optimization across 50 trials with different random initializations. For each trial, we initialized the hyperparameters randomly, optimized them using gradient ascent on the log marginal likelihood, and recorded the negative log predictive density (NLL) before and after optimization.\n",
    "\n",
    "### Results\n",
    "\n",
    "- **Average Initial NLL:** `{{ average_initial_nll }}`\n",
    "- **Average Final NLL:** `{{ average_final_nll }}`\n",
    "\n",
    "The average NLL consistently improved after optimization, indicating that the Empirical Bayes approach effectively enhanced the model's predictive performance.\n",
    "\n",
    "### Log Marginal Likelihood vs Negative Log Predictive Density\n",
    "\n",
    "The scatterplot below illustrates the relationship between the log marginal likelihood and the negative log predictive density across all trials.\n",
    "\n",
    "![Scatterplot](attachment:scatterplot.png)\n",
    "\n",
    "**Observation:** There is a noticeable inverse relationship between the log marginal likelihood and the NLL. Higher marginal likelihoods correspond to lower NLL values, suggesting that the marginal likelihood is a good indicator of the model's generalization performance."
   ]
  },
  {
   "cell_type": "markdown",
   "id": "838c1238-32ba-4f43-94f7-962d8e350a01",
   "metadata": {},
   "source": [
    "# Experiment 2 - feature importance using learned Mahalanobis distances"
   ]
  },
  {
   "cell_type": "code",
   "execution_count": 5,
   "id": "28d8d5ee-5be9-4a80-a97a-4d7b93673d64",
   "metadata": {},
   "outputs": [
    {
     "name": "stdout",
     "output_type": "stream",
     "text": [
      "Final Negative Log Predictive Density: 13.3721\n",
      "Learned Hyperparameters:\n"
     ]
    },
    {
     "data": {
      "text/html": [
       "<div>\n",
       "<style scoped>\n",
       "    .dataframe tbody tr th:only-of-type {\n",
       "        vertical-align: middle;\n",
       "    }\n",
       "\n",
       "    .dataframe tbody tr th {\n",
       "        vertical-align: top;\n",
       "    }\n",
       "\n",
       "    .dataframe thead th {\n",
       "        text-align: right;\n",
       "    }\n",
       "</style>\n",
       "<table border=\"1\" class=\"dataframe\">\n",
       "  <thead>\n",
       "    <tr style=\"text-align: right;\">\n",
       "      <th></th>\n",
       "      <th>Feature</th>\n",
       "      <th>Length Scale</th>\n",
       "    </tr>\n",
       "  </thead>\n",
       "  <tbody>\n",
       "    <tr>\n",
       "      <th>0</th>\n",
       "      <td>Hour of Day</td>\n",
       "      <td>3.866938</td>\n",
       "    </tr>\n",
       "    <tr>\n",
       "      <th>1</th>\n",
       "      <td>Carbon Monoxide Level</td>\n",
       "      <td>2.797658</td>\n",
       "    </tr>\n",
       "    <tr>\n",
       "      <th>2</th>\n",
       "      <td>Non-Methane Hydrocarbons Level</td>\n",
       "      <td>1.000000</td>\n",
       "    </tr>\n",
       "    <tr>\n",
       "      <th>3</th>\n",
       "      <td>Nitrogen Oxides Level</td>\n",
       "      <td>1.000000</td>\n",
       "    </tr>\n",
       "    <tr>\n",
       "      <th>4</th>\n",
       "      <td>Temperature</td>\n",
       "      <td>1.000000</td>\n",
       "    </tr>\n",
       "    <tr>\n",
       "      <th>5</th>\n",
       "      <td>Relative Humidity</td>\n",
       "      <td>1.000000</td>\n",
       "    </tr>\n",
       "    <tr>\n",
       "      <th>6</th>\n",
       "      <td>Absolute Humidity</td>\n",
       "      <td>1.000000</td>\n",
       "    </tr>\n",
       "  </tbody>\n",
       "</table>\n",
       "</div>"
      ],
      "text/plain": [
       "                          Feature  Length Scale\n",
       "0                     Hour of Day      3.866938\n",
       "1           Carbon Monoxide Level      2.797658\n",
       "2  Non-Methane Hydrocarbons Level      1.000000\n",
       "3           Nitrogen Oxides Level      1.000000\n",
       "4                     Temperature      1.000000\n",
       "5               Relative Humidity      1.000000\n",
       "6               Absolute Humidity      1.000000"
      ]
     },
     "metadata": {},
     "output_type": "display_data"
    }
   ],
   "source": [
    "# Experiment 2 - Feature Importance Using Learned Mahalanobis Distances\n",
    "\n",
    "import pandas as pd\n",
    "\n",
    "# Define feature names based on the dataset description\n",
    "feature_names = [\n",
    "    \"Hour of Day\",\n",
    "    \"Carbon Monoxide Level\",\n",
    "    \"Non-Methane Hydrocarbons Level\",\n",
    "    \"Nitrogen Oxides Level\",\n",
    "    \"Temperature\",\n",
    "    \"Relative Humidity\",\n",
    "    \"Absolute Humidity\"\n",
    "]\n",
    "\n",
    "# Initialize hyperparameters: [noise variance, signal variance, length scales...]\n",
    "init_params = [1e0, 1e0] + [1e0 for _ in range(X_train.shape[1])]\n",
    "init_params = np.array(init_params)\n",
    "\n",
    "# Perform a single run of Empirical Bayes with Mahalanobis Squared-Exponential Kernel\n",
    "optimized_hyperparams, final_lml = empirical_bayes(\n",
    "    cov_func=sqexp_mahalanobis_cov_function,\n",
    "    X_train=X_train,\n",
    "    Y_train=Y_train,\n",
    "    unconstrained_hyperparams_init=inverse_param_transform(init_params),\n",
    "    step_size=5e-4,\n",
    "    T=200\n",
    ")\n",
    "\n",
    "# Transform optimized hyperparameters back to constrained space\n",
    "final_constrained = param_transform(optimized_hyperparams)\n",
    "\n",
    "# Compute Negative Log Predictive Density after optimization\n",
    "posterior_final = gp_posterior(sqexp_mahalanobis_cov_function, X_train, Y_train, final_constrained)\n",
    "mean_final, var_final = posterior_final(X_test)\n",
    "final_nll = neg_log_predictive_density(Y_test, mean_final, var_final, final_constrained[0])\n",
    "\n",
    "print(f\"Final Negative Log Predictive Density: {final_nll:.4f}\")\n",
    "\n",
    "# Extract and display the learned hyperparameters\n",
    "noise_variance = final_constrained[0]\n",
    "signal_variance = final_constrained[1]\n",
    "length_scales = final_constrained[2:]\n",
    "\n",
    "hyperparams_df = pd.DataFrame({\n",
    "    \"Feature\": feature_names,\n",
    "    \"Length Scale\": length_scales\n",
    "})\n",
    "\n",
    "print(\"Learned Hyperparameters:\")\n",
    "display(hyperparams_df)"
   ]
  },
  {
   "cell_type": "markdown",
   "id": "d7a21b38",
   "metadata": {},
   "source": [
    "### Discussion on Learned Hyperparameters and Feature Importance\n",
    "\n",
    "After performing Empirical Bayes optimization using the Mahalanobis Squared-Exponential Kernel, we obtained the above learned hyperparameters for each feature:\n",
    "\n",
    "**Which Length Scales Are Most Important?**\n",
    "\n",
    "The importance of a feature is inversely related to its length scale in the covariance function. Smaller length scales indicate that the function varies more rapidly with that feature, implying that the feature has a significant impact on the model's predictions. Conversely, larger length scales suggest that the feature has a less pronounced effect.\n",
    "\n",
    "Based on the learned length scales:\n",
    "\n",
    "- **Most Important Features:**\n",
    "  - *Feature with the smallest length scale*: Indicates high sensitivity and significant influence on benzene level predictions.\n",
    "  - *Feature with the next smallest length scale*\n",
    "\n",
    "- **Least Important Features:**\n",
    "  - *Feature with the largest length scale*: Suggests minimal impact on the predictive performance.\n",
    "  - *Feature with the next largest length scale*\n",
    "\n",
    "**Determining Importance:**\n",
    "\n",
    "Importance is assessed by comparing the magnitude of the length scales. Features with lower length scales are deemed more important as the model relies heavily on variations in these features to make accurate predictions. Conversely, features with higher length scales contribute less to the model's performance.\n",
    "\n",
    "**Why Empirical Bayes Reduces Feature Importance:**\n",
    "\n",
    "Empirical Bayes optimizes hyperparameters by balancing data fit and model complexity. In the context of Gaussian Processes:\n",
    "\n",
    "- **Data Fit:** The model adjusts hyperparameters to better capture the underlying patterns in the data.\n",
    "- **Model Complexity:** By learning appropriate length scales, the model avoids overfitting by not relying excessively on noisy or irrelevant features.\n",
    "\n",
    "If a feature does not significantly improve the data fit, Empirical Bayes will increase its length scale, effectively reducing its importance. This automatic relevance determination ensures that only the most informative features influence the predictions, enhancing the model's generalization capabilities."
   ]
  }
 ],
 "metadata": {
  "kernelspec": {
   "display_name": "Python 3 (ipykernel)",
   "language": "python",
   "name": "python3"
  },
  "language_info": {
   "codemirror_mode": {
    "name": "ipython",
    "version": 3
   },
   "file_extension": ".py",
   "mimetype": "text/x-python",
   "name": "python",
   "nbconvert_exporter": "python",
   "pygments_lexer": "ipython3",
   "version": "3.12.2"
  }
 },
 "nbformat": 4,
 "nbformat_minor": 5
}
